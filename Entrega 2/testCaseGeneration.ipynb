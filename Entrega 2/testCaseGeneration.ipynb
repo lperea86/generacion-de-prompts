{
 "cells": [
  {
   "cell_type": "markdown",
   "id": "f48d1e4f-5bf0-4291-9f10-e4fa452dfee6",
   "metadata": {},
   "source": [
    "1. Import openAI dependences (load with conda install openai)"
   ]
  },
  {
   "cell_type": "code",
   "execution_count": 1,
   "id": "6f5e6bba-f9b0-4d27-a0c2-ceede346e2fd",
   "metadata": {
    "scrolled": true
   },
   "outputs": [],
   "source": [
    "\n",
    "#Import openAI dependences (module)\n",
    "import openai\n",
    "import csv\n",
    "import re"
   ]
  },
  {
   "cell_type": "markdown",
   "id": "6180968b-5de0-4e1d-91e1-bb0607b62ebe",
   "metadata": {},
   "source": [
    "2. Use the API Key from openAI page"
   ]
  },
  {
   "cell_type": "code",
   "execution_count": 6,
   "id": "aaa13f6c-6aee-4ddd-92b7-33dbbf66ea3c",
   "metadata": {},
   "outputs": [],
   "source": [
    "#Add our API Key copied from openAI page\n",
    "openai.api_key = \"\" #Example -> dw-bQyr9128F49VJRNKAnST32lbkFJ2Zv4qEhWo4R0Xh6yrh15"
   ]
  },
  {
   "cell_type": "markdown",
   "id": "133396b5-0a78-4b9a-a1c0-8c81d7744f9b",
   "metadata": {},
   "source": [
    "3. Make a request"
   ]
  },
  {
   "cell_type": "code",
   "execution_count": 7,
   "id": "f7c1fc76-a9ea-4df9-9324-d83bba8bfc0c",
   "metadata": {
    "scrolled": true
   },
   "outputs": [],
   "source": [
    "#Make the context of our prompt envoirement\n",
    "context = 'Eres un experimentado tester que analiza requerimientos funcionales y genera casos de prueba. El sistema que se esta desarrollando es para trazabilidad de medicamentos y esta apuntado a clientes muy exigentes'\n",
    "\n",
    "#prompt (text/user's question)\n",
    "prompt = \"\"\"\n",
    "Como parte del desarrollo en Verifarma 2.0, se requiere completar la segunda parte del Serie Generator Rules con el objetivo de generar la serie completa de manera única. Esta tarea es continuación de la primera parte abordada en los jiras VF2-436: [SNG][FRONTEND] Servicio Generación de series - Configuracion de Supported characters y Fragment codes\n",
    "IN TEST\n",
    "  y VF2-439: [SNG][FRONTEND] Servicio Generación de Permutaciones - Implementación Generator Rules\n",
    "IN TEST\n",
    " . Ahora se requiere la creación de un nuevo formulario para la identificación de productos (commodity identification), conocido en otros proyectos como medicamentos/productos.\n",
    "\n",
    "Una vez determinado la arquitectura a utilizar y ver si es posible reutilizar el front-end del Exchanger/FarmaDigit o si es necesario crear una nueva interfaz, este enfoque debe ser aplicado al nuevo proceso de alta para la gestión de este ABM (Alta/Baja/Modificación) de productos.\n",
    "\n",
    "Alcance del Requerimiento\n",
    "El objetivo principal de este requerimiento es desarrollar un front-end que permita a los usuarios realizar las siguientes acciones relacionadas con el Commodity Identification (Identificación de Producto):\n",
    "\n",
    " ABM-Producto/commodity Identification (Alta/Modificar/Eliminar):\n",
    "\n",
    "Implementar funcionalidades para dar de alta, modificar y eliminar registros de productos en el sistema.\n",
    "\n",
    "Cluster Size:\n",
    "\n",
    "Definir y gestionar el tamaño del clúster (grupo o conjunto) asociado con la identificación del producto, según los requisitos del negocio.\n",
    "\n",
    "Botón \"Generar Series\" e Invocación del Método:\n",
    "\n",
    "Incorporar un botón en la interfaz de usuario que permita a los usuarios generar series de identificación de productos y la correspondiente invocación del método necesario para este proceso.\n",
    "\n",
    "Interacción con Serie Generator Rules parte 1:\n",
    "\n",
    "Establecer la interacción adecuada entre los caracteres admitidos (Supported Characters) y el código de fragmento (Fragment Code) asociados con la identificación del producto, asegurando la coherencia y validez de los datos ingresados.\n",
    "\n",
    "\n",
    "IMPORTANTE!!\n",
    "\n",
    "Los datos que se en el esta pantalla debe ser visualizable a nivel de tenant, con la intención que al momento de dar de alta el producto 1 de la empresa A, dicho producto no pueda ser visualizado por la empresa B \n",
    "\n",
    "Fuera del Alcance\n",
    "las concatenación de la series\n",
    "\n",
    "Solución\n",
    "Commodity Identification\n",
    "\n",
    "El Commodity Identification se refiere al proceso de representar un producto mediante un valor único. Como parte de la solución, se requiere desarrollar un nuevo formulario para el ABM (Alta/Baja/Modificación) del Commodity Identification. Este formulario debe incluir los siguientes campos esenciales:\n",
    "\n",
    "Nombre del Producto\n",
    "\n",
    "Número de Identificación\n",
    "\n",
    "Cluster Size\n",
    "\n",
    "Además, la pantalla debe cumplir con las siguientes acciones correspondientes al ABM:\n",
    "\n",
    "Agregar/Alta: Permite dar de alta un nuevo producto en el sistema.\n",
    "\n",
    "Editar/Modificar: Permite modificar el nombre del producto y cluster. El número de identificación no será editable.\n",
    "\n",
    "Eliminar: Esta acción desactivará el producto en lugar de eliminarlo físicamente del sistema.\n",
    "\n",
    "Filtros de Búsqueda\n",
    "\n",
    "Cluster Size: Este campo permite al usuario indicar manualmente la cantidad de series que se guardarán en un archivo dentro del sistema S3.\n",
    "\n",
    "Botón de Solicitud de Series: Esta funcionalidad permite a los usuarios iniciar el proceso de generación y concatenación de series de acuerdo con las reglas específicas del producto.\n",
    "\n",
    "Ejemplo de visualización:\n",
    "\n",
    "\n",
    "Nombre \n",
    "\n",
    "Nro de Identificación\n",
    "\n",
    "Cluster_size\n",
    "\n",
    "Aspirina\n",
    "\n",
    "123456\n",
    "\n",
    "100\n",
    "\n",
    "Ibuprofeno\n",
    "\n",
    "963852\n",
    "\n",
    "5.000\n",
    "\n",
    "\n",
    "Notas:\n",
    "El número de identificación no puede ser editado directamente en la pantalla.\n",
    "\n",
    "La eliminación desactiva el producto en lugar de eliminarlo físicamente del sistema para mantener el historial y la integridad de los datos.\n",
    "\n",
    "Esta solución proporcionará una interfaz clara y funcional para la gestión eficiente del Commodity Identification dentro del sistema, asegurando la coherencia y usabilidad de la aplicación.\n",
    "\n",
    "Implementación\n",
    "Interacción Con el ‘FC’ y ‘SC’ (Fragment Code y Supported Characters)\n",
    "Esta funcionalidad permite a los usuarios definir reglas de serialización para un Producto existente mediante la configuración de Fragment Codes (FC) y Supported Characters (SC) dentro del módulo Serie Generator Rules en Jira VF2-439: [SNG][FRONTEND] Servicio Generación de Permutaciones - Implementación Generator Rules\n",
    "IN TEST\n",
    " \n",
    "Pasos y Detalles\n",
    "Una vez que el usuario haya dado de alta un commodity identification en el sistema, podrá relacionarlo de la siguiente manera:\n",
    "\n",
    "Acceso a la Implementación de Serie Generator Rules:\n",
    "\n",
    "El usuario debe acceder a la pantalla de las reglas de generación de series desarrollada en el Jira: VF2-439.\n",
    "\n",
    "Selección de 'FC' y 'SC':\n",
    "\n",
    "Dentro del módulo Serie Generator Rules, el usuario puede seleccionar los Fragment Codes y Supported Characters  como parte a definir  de las reglas de serialización del Producto.\n",
    "\n",
    "Vinculación con Commodity Identification (CI):\n",
    "\n",
    "el usuario debe vincular los Fragment Codes y Supported Characters seleccionados con un Commodity Identification (CI) específico.\n",
    "\n",
    "Especificación del Cluster Size (CS):\n",
    "\n",
    "El usuario indica el tamaño del cluster (Cluster Size) requerido para la generación y agrupación de las series conforme a las reglas definidas.\n",
    "\n",
    "Definición Completa de Reglas de Serialización:\n",
    "\n",
    "Al completar la configuración de Fragment Codes, Supported Characters, Commodity Identification y Cluster Size, se establecen las reglas completas de serialización para el Producto.\n",
    "\n",
    "Relación en el Back\n",
    "\n",
    "Una vez el ‘CI’ se vincule para que llegue a ser parte del Serie Generator Rules, debe actualizarse el campo de la tabla Fragment_codes.Commodity_identification_id \n",
    "\n",
    "Click en Generar serie\n",
    "\n",
    "Dispara la petición de serie que a posteriori se creara en una orden de serialización\n",
    "\n",
    "Resultado\n",
    "Mensaje de salida para kafka tipo Json que tiene como resultado la creación de una orden de serialización\n",
    " \n",
    "\n",
    "Criterios de Aceptación\n",
    "CA1:Alta del Commodity Identification\n",
    "\n",
    "CA2: Modificación/eliminación del ‘CI’\n",
    "\n",
    "C3: Vinculación del ‘CI’ al Serie Generator Rules\n",
    "\"\"\""
   ]
  },
  {
   "cell_type": "markdown",
   "id": "a42ce140-d99c-492e-ad64-9de2719ea75e",
   "metadata": {},
   "source": [
    "4. Settings"
   ]
  },
  {
   "cell_type": "code",
   "execution_count": null,
   "id": "19d20f66",
   "metadata": {},
   "outputs": [],
   "source": [
    "def analizar_casos_prueba(requerimiento):\n",
    "    casos = re.findall(r'Objetivo: (.*?)\\nPasos: (.*?)\\nResultado esperado: (.*?)\\n', requerimiento, re.DOTALL)\n",
    "    return casos\n",
    "\n",
    "def guardar_casos_csv(casos, nombre_archivo):\n",
    "    with open(nombre_archivo, mode='w', newline='') as archivo:\n",
    "        escritor_csv = csv.writer(archivo)\n",
    "        escritor_csv.writerow(['Objetivo', 'Pasos', 'Resultado esperado'])\n",
    "        for caso in casos:\n",
    "            escritor_csv.writerow(caso)"
   ]
  },
  {
   "cell_type": "markdown",
   "id": "1e57d4c6-d1aa-48fc-80dd-530bfcebab65",
   "metadata": {},
   "source": [
    "5. Storage the response in any variable"
   ]
  },
  {
   "cell_type": "code",
   "execution_count": null,
   "id": "abb2ce41-0dc8-46f9-8137-aca58604bcbf",
   "metadata": {},
   "outputs": [],
   "source": [
    "casos_prueba = analizar_casos_prueba(requerimiento)\n",
    "\n",
    "guardar_casos_csv(casos_prueba, 'casos_de_prueba.csv')\n",
    "\n",
    "print(\"Casos de prueba guardados en 'casos_de_prueba.csv'\")\n"
   ]
  },
  {
   "cell_type": "code",
   "execution_count": null,
   "id": "319a0bbc-0af1-4006-aea0-78dc22675505",
   "metadata": {},
   "outputs": [],
   "source": []
  }
 ],
 "metadata": {
  "kernelspec": {
   "display_name": "Python 3 (ipykernel)",
   "language": "python",
   "name": "python3"
  },
  "language_info": {
   "codemirror_mode": {
    "name": "ipython",
    "version": 3
   },
   "file_extension": ".py",
   "mimetype": "text/x-python",
   "name": "python",
   "nbconvert_exporter": "python",
   "pygments_lexer": "ipython3",
   "version": "3.10.14"
  }
 },
 "nbformat": 4,
 "nbformat_minor": 5
}
